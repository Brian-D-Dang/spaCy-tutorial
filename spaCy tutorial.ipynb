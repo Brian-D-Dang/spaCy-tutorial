{
 "cells": [
  {
   "cell_type": "markdown",
   "id": "92971223",
   "metadata": {},
   "source": [
    "# spaCy"
   ]
  },
  {
   "cell_type": "markdown",
   "id": "b948eab2",
   "metadata": {},
   "source": [
    "## Basics of spaCy"
   ]
  },
  {
   "cell_type": "code",
   "execution_count": 1,
   "id": "dddf4014",
   "metadata": {},
   "outputs": [
    {
     "data": {
      "text/plain": [
       "<spacy.lang.en.English at 0x16ac0ddf3a0>"
      ]
     },
     "execution_count": 1,
     "metadata": {},
     "output_type": "execute_result"
    }
   ],
   "source": [
    "import spacy\n",
    "\n",
    "txt = \"The tallest living man is 37-year-old Sultan Kosen, from Turkey, who is 8 feet, 2.8 inches, who set the record in 2009.\"\n",
    "\n",
    "# Create the Language object\n",
    "# convention to name any loaded language models 'nlp' in spaCy\n",
    "nlp = spacy.load(\"en_core_web_sm\")\n",
    "nlp"
   ]
  },
  {
   "cell_type": "code",
   "execution_count": 2,
   "id": "c2ed0a6a",
   "metadata": {},
   "outputs": [
    {
     "data": {
      "text/plain": [
       "The tallest living man is 37-year-old Sultan Kosen, from Turkey, who is 8 feet, 2.8 inches, who set the record in 2009."
      ]
     },
     "execution_count": 2,
     "metadata": {},
     "output_type": "execute_result"
    }
   ],
   "source": [
    "# this is how we create a doc object\n",
    "doc = nlp(txt)\n",
    "doc"
   ]
  },
  {
   "cell_type": "code",
   "execution_count": 3,
   "id": "91c4a2d4",
   "metadata": {},
   "outputs": [
    {
     "name": "stdout",
     "output_type": "stream",
     "text": [
      "The\n",
      "tallest\n",
      "living\n",
      "man\n",
      "is\n",
      "\n",
      "Text length: 31\n",
      "<class 'spacy.tokens.token.Token'>\n"
     ]
    }
   ],
   "source": [
    "# a doc object is a convention and an iterator\n",
    "# slicing and indexing notations can be used to extract individual tokens\n",
    "for token in doc[:5]:\n",
    "    print(token)\n",
    "print(f'\\nText length: {len(doc)}')\n",
    "print(type(doc[0]))"
   ]
  },
  {
   "cell_type": "code",
   "execution_count": 4,
   "id": "720e75a0",
   "metadata": {},
   "outputs": [
    {
     "name": "stdout",
     "output_type": "stream",
     "text": [
      "<class 'spacy.tokens.span.Span'>\n"
     ]
    },
    {
     "data": {
      "text/plain": [
       "'The tallest living man is'"
      ]
     },
     "execution_count": 4,
     "metadata": {},
     "output_type": "execute_result"
    }
   ],
   "source": [
    "# if more than one token is extracted we have a span object\n",
    "span = doc[:5]\n",
    "print(type(span))\n",
    "\n",
    "span.text"
   ]
  },
  {
   "cell_type": "code",
   "execution_count": 5,
   "id": "083daaab",
   "metadata": {},
   "outputs": [
    {
     "name": "stdout",
     "output_type": "stream",
     "text": [
      "Index:   [3, 4, 5, 6, 7, 8, 9]\n",
      "Text:   ['man', 'is', '37', '-', 'year', '-', 'old']\n",
      "is_alpha:   [True, True, False, False, True, False, True]\n",
      "is_punct:   [False, False, False, True, False, True, False]\n",
      "like_num:   [False, False, True, False, False, False, False]\n",
      "Base word:  ['man', 'be', '37', '-', 'year', '-', 'old']\n"
     ]
    }
   ],
   "source": [
    "# spaCy is memory efficient so token and span are just views of doc object there is no duplication\n",
    "# There are also 6 prebuilt in lexical attributes\n",
    "print(\"Index:  \", [token.i for token in doc[3:10]])\n",
    "print(\"Text:  \", [token.text for token in doc[3:10]])\n",
    "print(\"is_alpha:  \", [token.is_alpha for token in doc[3:10]])\n",
    "print(\"is_punct:  \", [token.is_punct for token in doc[3:10]])\n",
    "# like_num recognizes both literal and lettered numbers\n",
    "print(\"like_num:  \", [token.like_num for token in doc[3:10]])\n",
    "# returns base word stripped from any suffixes, prefixes, tense, or other grammatical attributes\n",
    "print(\"Base word: \", [token.lemma_ for token in doc[3:10]])"
   ]
  },
  {
   "cell_type": "markdown",
   "id": "d1cc27fb",
   "metadata": {},
   "source": [
    "## Architecture and core data structures"
   ]
  },
  {
   "cell_type": "code",
   "execution_count": 6,
   "id": "f718e32f",
   "metadata": {},
   "outputs": [
    {
     "data": {
      "text/plain": [
       "spacy.lang.en.English"
      ]
     },
     "execution_count": 6,
     "metadata": {},
     "output_type": "execute_result"
    }
   ],
   "source": [
    "import spacy\n",
    "# we load in a language object which are pre-trained on millions of text instances\n",
    "# available in 22 languages\n",
    "nlp = spacy.load(\"en_core_web_md\")\n",
    "\n",
    "type(nlp)"
   ]
  },
  {
   "cell_type": "code",
   "execution_count": 7,
   "id": "67ef45f9",
   "metadata": {},
   "outputs": [
    {
     "name": "stdout",
     "output_type": "stream",
     "text": [
      "<class 'spacy.lang.en.English'>\n"
     ]
    }
   ],
   "source": [
    "# language models can be directly imported from the lan sub-module\n",
    "from spacy.lang.en import English\n",
    "from spacy.lang.es import Spanish\n",
    "\n",
    "nlp = English()\n",
    "\n",
    "print(type(nlp))\n",
    "\n",
    "txt = \"\"\"The original name for the search engine Google was Backrub. \n",
    "         It was renamed Google after the googol, \n",
    "         which is the number one followed by 100 zeros.\"\"\"\n",
    "\n",
    "doc = nlp(txt)"
   ]
  },
  {
   "cell_type": "code",
   "execution_count": 8,
   "id": "16a2fca6",
   "metadata": {},
   "outputs": [
    {
     "name": "stdout",
     "output_type": "stream",
     "text": [
      "nlp vocab: <class 'spacy.vocab.Vocab'>\n",
      "doc vocab: <class 'spacy.vocab.Vocab'>\n"
     ]
    }
   ],
   "source": [
    "# after processing text the words and punct are stored in the vocab object of nlp\n",
    "# vocab is shared between docs so all new words are stored in the same object\n",
    "print(f'nlp vocab: {type(nlp.vocab)}')\n",
    "print(f'doc vocab: {type(doc.vocab)}')"
   ]
  },
  {
   "cell_type": "code",
   "execution_count": 13,
   "id": "c7628f82",
   "metadata": {},
   "outputs": [
    {
     "name": "stdout",
     "output_type": "stream",
     "text": [
      "<class 'spacy.strings.StringStore'>\n",
      "Hash: 1988622737398120358\n",
      "String: google\n"
     ]
    }
   ],
   "source": [
    "print(type(nlp.vocab.strings))\n",
    "# spaCy communicates in hashes and has a two way lookup table called stringstore\n",
    "google = nlp.vocab.strings[\"google\"]\n",
    "print(f'Hash: {google}')\n",
    "print(f'String: {nlp.vocab.strings[google]}')"
   ]
  },
  {
   "cell_type": "code",
   "execution_count": 16,
   "id": "298ad821",
   "metadata": {},
   "outputs": [
    {
     "data": {
      "text/plain": [
       "spacy.lexeme.Lexeme"
      ]
     },
     "execution_count": 16,
     "metadata": {},
     "output_type": "execute_result"
    }
   ],
   "source": [
    "# when tokens enter Vocab they lose context-specific info and become a lexeme\n",
    "lexeme = nlp.vocab[\"google\"]\n",
    "type(lexeme)"
   ]
  },
  {
   "cell_type": "code",
   "execution_count": 17,
   "id": "7783bd55",
   "metadata": {},
   "outputs": [
    {
     "name": "stdout",
     "output_type": "stream",
     "text": [
      "google 1988622737398120358 False\n"
     ]
    }
   ],
   "source": [
    "# does not contain POS tags or morphological dependencies but offer lexical attributes\n",
    "print(lexeme.text, lexeme.orth, lexeme.is_digit)"
   ]
  },
  {
   "cell_type": "markdown",
   "id": "ec54ed93",
   "metadata": {},
   "source": [
    "### Manual Doc Object creation"
   ]
  },
  {
   "cell_type": "code",
   "execution_count": 19,
   "id": "8ef3f810",
   "metadata": {},
   "outputs": [
    {
     "data": {
      "text/plain": [
       "I love Barcelona!"
      ]
     },
     "execution_count": 19,
     "metadata": {},
     "output_type": "execute_result"
    }
   ],
   "source": [
    "# you can create docs manually by importing the Doc class from tokens module\n",
    "from spacy.lang.en import English\n",
    "from spacy.tokens import Doc\n",
    "\n",
    "nlp = English()\n",
    "\n",
    "words = [\"I\", \"love\", \"Barcelona\", \"!\"]\n",
    "spaces = [True, True, False, False]\n",
    "\n",
    "# we combine the words and spaces to create a text doc\n",
    "# doc requires a vocab list before being able to create a doc\n",
    "doc = Doc(nlp.vocab, words=words, spaces=spaces)\n",
    "doc"
   ]
  },
  {
   "cell_type": "markdown",
   "id": "3f79a14b",
   "metadata": {},
   "source": [
    "### Manual Span Object Creation"
   ]
  },
  {
   "cell_type": "code",
   "execution_count": 23,
   "id": "d3fb7d8c",
   "metadata": {},
   "outputs": [
    {
     "name": "stdout",
     "output_type": "stream",
     "text": [
      "<class 'spacy.tokens.span.Span'>\n",
      "The original name for the search engine Google was Backrub\n",
      "0 10\n"
     ]
    }
   ],
   "source": [
    "# spans are also a class of their own\n",
    "doc = nlp(txt)\n",
    "\n",
    "span = doc[:10]\n",
    "print(type(span))\n",
    "print(span.text)\n",
    "print(span.start, span.end)"
   ]
  },
  {
   "cell_type": "code",
   "execution_count": 24,
   "id": "276d67c3",
   "metadata": {},
   "outputs": [
    {
     "data": {
      "text/plain": [
       "'The original name for the search engine Google was Backrub'"
      ]
     },
     "execution_count": 24,
     "metadata": {},
     "output_type": "execute_result"
    }
   ],
   "source": [
    "# you can also manually create span objects\n",
    "from spacy.tokens import Span\n",
    "\n",
    "span = Span(doc, 0, 10)\n",
    "span.text"
   ]
  },
  {
   "cell_type": "markdown",
   "id": "d0153d40",
   "metadata": {},
   "source": [
    "## Named Entity Recognition"
   ]
  },
  {
   "cell_type": "code",
   "execution_count": 90,
   "id": "4e95e8b4",
   "metadata": {},
   "outputs": [
    {
     "name": "stdout",
     "output_type": "stream",
     "text": [
      "Cleopatra               PERSON              \n",
      "Egyptian                NORP                \n",
      "Egypt                   GPE                 \n",
      "Greek                   NORP                \n",
      "Alexander the Great's    ORG                 \n",
      "Macedonian              NORP                \n",
      "Ptolemy                 PERSON              \n"
     ]
    }
   ],
   "source": [
    "# We use spaCy to perform name entity extraction/recognition\n",
    "\n",
    "txt = \"\"\"Cleopatra wasn't actually Egyptian! \n",
    "         As far as historians can tell, Egypt's \n",
    "         famous femme fatal was actually Greek!. \n",
    "         She was a descendant of Alexander the Great's\n",
    "         Macedonian general Ptolemy\"\"\"\n",
    "\n",
    "nlp = spacy.load(\"en_core_web_md\")\n",
    "\n",
    "doc = nlp(txt)\n",
    "\n",
    "for ent in doc.ents:\n",
    "    print(f'{ent.text:<20}    {ent.label_:<20}')"
   ]
  },
  {
   "cell_type": "code",
   "execution_count": 34,
   "id": "28c85215",
   "metadata": {},
   "outputs": [
    {
     "name": "stdout",
     "output_type": "stream",
     "text": [
      "Companies, agencies, institutions, etc.\n",
      "Countries, cities, states\n"
     ]
    }
   ],
   "source": [
    "# explains the entity labels provided\n",
    "print(spacy.explain('ORG'))\n",
    "print(spacy.explain('GPE'))"
   ]
  },
  {
   "cell_type": "code",
   "execution_count": 91,
   "id": "000a4bf0",
   "metadata": {},
   "outputs": [
    {
     "data": {
      "text/html": [
       "<span class=\"tex2jax_ignore\"><div class=\"entities\" style=\"line-height: 2.5; direction: ltr\">\n",
       "<mark class=\"entity\" style=\"background: #aa9cfc; padding: 0.45em 0.6em; margin: 0 0.25em; line-height: 1; border-radius: 0.35em;\">\n",
       "    Cleopatra\n",
       "    <span style=\"font-size: 0.8em; font-weight: bold; line-height: 1; border-radius: 0.35em; vertical-align: middle; margin-left: 0.5rem\">PERSON</span>\n",
       "</mark>\n",
       " wasn't actually \n",
       "<mark class=\"entity\" style=\"background: #c887fb; padding: 0.45em 0.6em; margin: 0 0.25em; line-height: 1; border-radius: 0.35em;\">\n",
       "    Egyptian\n",
       "    <span style=\"font-size: 0.8em; font-weight: bold; line-height: 1; border-radius: 0.35em; vertical-align: middle; margin-left: 0.5rem\">NORP</span>\n",
       "</mark>\n",
       "! <br>         As far as historians can tell, \n",
       "<mark class=\"entity\" style=\"background: #feca74; padding: 0.45em 0.6em; margin: 0 0.25em; line-height: 1; border-radius: 0.35em;\">\n",
       "    Egypt\n",
       "    <span style=\"font-size: 0.8em; font-weight: bold; line-height: 1; border-radius: 0.35em; vertical-align: middle; margin-left: 0.5rem\">GPE</span>\n",
       "</mark>\n",
       "'s <br>         famous femme fatal was actually \n",
       "<mark class=\"entity\" style=\"background: #c887fb; padding: 0.45em 0.6em; margin: 0 0.25em; line-height: 1; border-radius: 0.35em;\">\n",
       "    Greek\n",
       "    <span style=\"font-size: 0.8em; font-weight: bold; line-height: 1; border-radius: 0.35em; vertical-align: middle; margin-left: 0.5rem\">NORP</span>\n",
       "</mark>\n",
       "!. <br>         She was a descendant of \n",
       "<mark class=\"entity\" style=\"background: #7aecec; padding: 0.45em 0.6em; margin: 0 0.25em; line-height: 1; border-radius: 0.35em;\">\n",
       "    Alexander the Great's\n",
       "    <span style=\"font-size: 0.8em; font-weight: bold; line-height: 1; border-radius: 0.35em; vertical-align: middle; margin-left: 0.5rem\">ORG</span>\n",
       "</mark>\n",
       "<br>         \n",
       "<mark class=\"entity\" style=\"background: #c887fb; padding: 0.45em 0.6em; margin: 0 0.25em; line-height: 1; border-radius: 0.35em;\">\n",
       "    Macedonian\n",
       "    <span style=\"font-size: 0.8em; font-weight: bold; line-height: 1; border-radius: 0.35em; vertical-align: middle; margin-left: 0.5rem\">NORP</span>\n",
       "</mark>\n",
       " general \n",
       "<mark class=\"entity\" style=\"background: #aa9cfc; padding: 0.45em 0.6em; margin: 0 0.25em; line-height: 1; border-radius: 0.35em;\">\n",
       "    Ptolemy\n",
       "    <span style=\"font-size: 0.8em; font-weight: bold; line-height: 1; border-radius: 0.35em; vertical-align: middle; margin-left: 0.5rem\">PERSON</span>\n",
       "</mark>\n",
       "</div></span>"
      ],
      "text/plain": [
       "<IPython.core.display.HTML object>"
      ]
     },
     "metadata": {},
     "output_type": "display_data"
    }
   ],
   "source": [
    "# we can also display an entity tagger instead of straight text\n",
    "from spacy import displacy\n",
    "\n",
    "displacy.render(doc, style=\"ent\")"
   ]
  },
  {
   "cell_type": "code",
   "execution_count": 93,
   "id": "4817ff14",
   "metadata": {},
   "outputs": [
    {
     "name": "stdout",
     "output_type": "stream",
     "text": [
      "Alexander the Great\n",
      "Alexander the Great's\n",
      "(Cleopatra, Egyptian, Egypt, Greek, Macedonian, Ptolemy)\n"
     ]
    },
    {
     "data": {
      "text/html": [
       "<span class=\"tex2jax_ignore\"><div class=\"entities\" style=\"line-height: 2.5; direction: ltr\">\n",
       "<mark class=\"entity\" style=\"background: #aa9cfc; padding: 0.45em 0.6em; margin: 0 0.25em; line-height: 1; border-radius: 0.35em;\">\n",
       "    Cleopatra\n",
       "    <span style=\"font-size: 0.8em; font-weight: bold; line-height: 1; border-radius: 0.35em; vertical-align: middle; margin-left: 0.5rem\">PERSON</span>\n",
       "</mark>\n",
       " wasn't actually \n",
       "<mark class=\"entity\" style=\"background: #c887fb; padding: 0.45em 0.6em; margin: 0 0.25em; line-height: 1; border-radius: 0.35em;\">\n",
       "    Egyptian\n",
       "    <span style=\"font-size: 0.8em; font-weight: bold; line-height: 1; border-radius: 0.35em; vertical-align: middle; margin-left: 0.5rem\">NORP</span>\n",
       "</mark>\n",
       "! <br>         As far as historians can tell, \n",
       "<mark class=\"entity\" style=\"background: #feca74; padding: 0.45em 0.6em; margin: 0 0.25em; line-height: 1; border-radius: 0.35em;\">\n",
       "    Egypt\n",
       "    <span style=\"font-size: 0.8em; font-weight: bold; line-height: 1; border-radius: 0.35em; vertical-align: middle; margin-left: 0.5rem\">GPE</span>\n",
       "</mark>\n",
       "'s <br>         famous femme fatal was actually \n",
       "<mark class=\"entity\" style=\"background: #c887fb; padding: 0.45em 0.6em; margin: 0 0.25em; line-height: 1; border-radius: 0.35em;\">\n",
       "    Greek\n",
       "    <span style=\"font-size: 0.8em; font-weight: bold; line-height: 1; border-radius: 0.35em; vertical-align: middle; margin-left: 0.5rem\">NORP</span>\n",
       "</mark>\n",
       "!. <br>         She was a descendant of \n",
       "<mark class=\"entity\" style=\"background: #aa9cfc; padding: 0.45em 0.6em; margin: 0 0.25em; line-height: 1; border-radius: 0.35em;\">\n",
       "    Alexander the Great\n",
       "    <span style=\"font-size: 0.8em; font-weight: bold; line-height: 1; border-radius: 0.35em; vertical-align: middle; margin-left: 0.5rem\">PERSON</span>\n",
       "</mark>\n",
       "'s<br>         \n",
       "<mark class=\"entity\" style=\"background: #c887fb; padding: 0.45em 0.6em; margin: 0 0.25em; line-height: 1; border-radius: 0.35em;\">\n",
       "    Macedonian\n",
       "    <span style=\"font-size: 0.8em; font-weight: bold; line-height: 1; border-radius: 0.35em; vertical-align: middle; margin-left: 0.5rem\">NORP</span>\n",
       "</mark>\n",
       " general \n",
       "<mark class=\"entity\" style=\"background: #aa9cfc; padding: 0.45em 0.6em; margin: 0 0.25em; line-height: 1; border-radius: 0.35em;\">\n",
       "    Ptolemy\n",
       "    <span style=\"font-size: 0.8em; font-weight: bold; line-height: 1; border-radius: 0.35em; vertical-align: middle; margin-left: 0.5rem\">PERSON</span>\n",
       "</mark>\n",
       "</div></span>"
      ],
      "text/plain": [
       "<IPython.core.display.HTML object>"
      ]
     },
     "metadata": {},
     "output_type": "display_data"
    }
   ],
   "source": [
    "# Alexander the Great is mislabeled as an ORG instead of a person\n",
    "# so we want to relabel it\n",
    "from spacy.tokens import Span\n",
    "alexander = Span(doc, 31, 34, label=\"PERSON\")\n",
    "print(alexander)\n",
    "\n",
    "print(doc[31:35])\n",
    "# to remove a entity we have to first convert it into a separate list and remove the desired value\n",
    "# then we set the original doc.ents to the list to update the removed value\n",
    "test = list(doc.ents)\n",
    "del test[4]\n",
    "doc.ents = test\n",
    "print(doc.ents)\n",
    "doc.set_ents([alexander], default=\"unmodified\")\n",
    "displacy.render(doc, style=\"ent\")"
   ]
  },
  {
   "cell_type": "markdown",
   "id": "4429f3da",
   "metadata": {},
   "source": [
    "## Predicting part-of-speech (POS) tags and syntatic dependicies"
   ]
  },
  {
   "cell_type": "code",
   "execution_count": 94,
   "id": "285770bd",
   "metadata": {},
   "outputs": [
    {
     "name": "stdout",
     "output_type": "stream",
     "text": [
      "Text                 Part-of-speech       Dependency           Dependency text     \n",
      "\n",
      "The                  DET                  det                  footprints          \n",
      "first                ADJ                  amod                 footprints          \n",
      "footprints           NOUN                 nsubj                remain              \n",
      "on                   ADP                  prep                 footprints          \n",
      "the                  DET                  det                  moon                \n",
      "moon                 NOUN                 pobj                 on                  \n",
      "will                 AUX                  aux                  remain              \n",
      "remain               VERB                 ROOT                 remain              \n",
      "there                ADV                  advmod               remain              \n",
      "for                  ADP                  prep                 remain              \n",
      "a                    DET                  quantmod             million             \n",
      "million              NUM                  nummod               years               \n",
      "years                NOUN                 pobj                 for                 \n"
     ]
    }
   ],
   "source": [
    "# spaCy offers a rich selection of tools for grammar analysis\n",
    "txt = \"The first footprints on the moon will remain there for a million years\"\n",
    "\n",
    "doc = nlp(txt)\n",
    "\n",
    "print(\n",
    "    f\"{'Text':<20} {'Part-of-speech':<20} \"\n",
    "    f\"{'Dependency':<20} {'Dependency text':<20}\\n\"\n",
    ")\n",
    "\n",
    "for token in doc:\n",
    "    print(f\"{token.text:<20} {token.pos_:<20} {token.dep_:<20} {token.head.text:<20}\")"
   ]
  },
  {
   "cell_type": "code",
   "execution_count": 96,
   "id": "5fa297f3",
   "metadata": {},
   "outputs": [
    {
     "name": "stdout",
     "output_type": "stream",
     "text": [
      "DET --> determiner\n",
      "AUX --> auxiliary\n",
      "ADP --> adposition\n",
      "amod --> adjectival modifier\n",
      "nsubj --> nominal subject\n",
      "nummod --> numeric modifier\n"
     ]
    }
   ],
   "source": [
    "# this may seem confusing but we can also use spaCy to explain the labels \n",
    "\n",
    "pos_tags = [\"DET\", \"AUX\", \"ADP\"]\n",
    "dep_tags = [\"amod\", \"nsubj\", \"nummod\"]\n",
    "\n",
    "for pos in pos_tags:\n",
    "    print(pos, \"-->\", spacy.explain(pos))\n",
    "\n",
    "for dep in dep_tags:\n",
    "    print(dep, \"-->\", spacy.explain(dep))"
   ]
  },
  {
   "cell_type": "code",
   "execution_count": 100,
   "id": "a7ddd3cd",
   "metadata": {},
   "outputs": [
    {
     "name": "stdout",
     "output_type": "stream",
     "text": [
      "<generator object at 0x0000016AC3CEFCC0>\n",
      "The teddy bear\n",
      "President Theodore Roosevelt\n",
      "he\n",
      "a captured black bear\n",
      "a hunt\n",
      "a stuffed-animal maker\n",
      "a bear\n",
      "it\n",
      "the president\n"
     ]
    }
   ],
   "source": [
    "# spaCy is also able to extract noun chunks\n",
    "\n",
    "\n",
    "txt = \"\"\"The teddy bear is named after President Theodore Roosevelt. \n",
    "         After he refused to shoot a captured black bear on a hunt, \n",
    "         a stuffed-animal maker decided to create\n",
    "         a bear and name it after the president.\"\"\"\n",
    "\n",
    "doc = nlp(txt)\n",
    "\n",
    "print(doc.noun_chunks)\n",
    "for chunk in doc.noun_chunks:\n",
    "    print(chunk.text)"
   ]
  },
  {
   "cell_type": "markdown",
   "id": "8975e571",
   "metadata": {},
   "source": [
    "## Custom rule-based tokenization"
   ]
  },
  {
   "cell_type": "code",
   "execution_count": 101,
   "id": "7c263a77",
   "metadata": {},
   "outputs": [],
   "source": [
    "# spaCy won't always recognize text tokens so sometimes we have to declare them ourselves\n",
    "txt = \"\"\"Cleopatra wasn't actually Egyptian! \n",
    "         As far as historians can tell, Egypt's \n",
    "         famous femme fatal was actually Greek!. \n",
    "         She was a descendant of Alexander the Great's\n",
    "         Macedonian general Ptolemy\"\"\""
   ]
  },
  {
   "cell_type": "code",
   "execution_count": 102,
   "id": "c5bd21d8",
   "metadata": {},
   "outputs": [],
   "source": [
    "# we start by creating a pattern as a dict\n",
    "# this is the three-token pattern of Alexander the Great\n",
    "pattern = [\n",
    "    {\"IS_ALPHA\": True, \"IS_TITLE\": True},\n",
    "    {\"IS_STOP\": True},\n",
    "    {\"IS_ALPHA\": True, \"IS_TITLE\": True}\n",
    "]"
   ]
  },
  {
   "cell_type": "code",
   "execution_count": 103,
   "id": "170e4918",
   "metadata": {},
   "outputs": [],
   "source": [
    "# now we must create a Matcher object that contains this pattern\n",
    "from spacy.matcher import Matcher\n",
    "\n",
    "# Init the matcher with the shared vocab\n",
    "matcher = Matcher(nlp.vocab)\n",
    "\n",
    "# Add the pattern to the matcher\n",
    "matcher.add(\"TITLED_PERSON\", [pattern])"
   ]
  },
  {
   "cell_type": "code",
   "execution_count": 105,
   "id": "438ad30e",
   "metadata": {},
   "outputs": [
    {
     "name": "stdout",
     "output_type": "stream",
     "text": [
      "[(8382984582166938613, 31, 34)]\n",
      "Alexander the Great\n"
     ]
    }
   ],
   "source": [
    "# we process the text and call the matcher object on the doc object\n",
    "# this will return a list of matches\n",
    "\n",
    "# Process the text\n",
    "doc = nlp(txt)\n",
    "\n",
    "# Find all matches\n",
    "matches = matcher(doc)\n",
    "print(matches)\n",
    "\n",
    "# Iterate over matches in this case just one\n",
    "for match_id, start, end in matches:\n",
    "    span = doc[start:end]\n",
    "    print(span.text)"
   ]
  },
  {
   "cell_type": "markdown",
   "id": "27fa8e95",
   "metadata": {},
   "source": [
    "## Word vectors and semantic similarity"
   ]
  },
  {
   "cell_type": "code",
   "execution_count": 108,
   "id": "84e860b6",
   "metadata": {},
   "outputs": [
    {
     "data": {
      "text/plain": [
       "0.9331312038844666"
      ]
     },
     "execution_count": 108,
     "metadata": {},
     "output_type": "execute_result"
    }
   ],
   "source": [
    "# spaCy can also be used to predict semantic similarity\n",
    "# which can be used in recommender systems, plagiarism, duplicate content, etc.\n",
    "# spaCy calculates semantic similarity using word vectors available in the medium-sized model\n",
    "nlp = spacy.load(\"en_core_web_md\")\n",
    "\n",
    "doc1 = nlp(\"What a lukeworm sentiment.\")\n",
    "doc2 = nlp(\"What a short sentence.\")\n",
    "\n",
    "doc1.similarity(doc2)"
   ]
  },
  {
   "cell_type": "code",
   "execution_count": 109,
   "id": "fe82d800",
   "metadata": {},
   "outputs": [
    {
     "data": {
      "text/plain": [
       "0.1338784396648407"
      ]
     },
     "execution_count": 109,
     "metadata": {},
     "output_type": "execute_result"
    }
   ],
   "source": [
    "# all doc, token, and span objects have this similarity method\n",
    "token1 = doc[-1]\n",
    "token2 = doc2[2]\n",
    "\n",
    "token1.similarity(token2)"
   ]
  },
  {
   "cell_type": "code",
   "execution_count": 110,
   "id": "6a91ca0c",
   "metadata": {},
   "outputs": [
    {
     "data": {
      "text/plain": [
       "0.46723809838294983"
      ]
     },
     "execution_count": 110,
     "metadata": {},
     "output_type": "execute_result"
    }
   ],
   "source": [
    "# the three classes can be compared to each other as well\n",
    "# so this means that the datatypes in the comparison are the same\n",
    "doc1[0:2].similarity(doc[3])"
   ]
  },
  {
   "cell_type": "code",
   "execution_count": 119,
   "id": "9ca608ca",
   "metadata": {},
   "outputs": [
    {
     "name": "stdout",
     "output_type": "stream",
     "text": [
      "(300,)\n"
     ]
    },
    {
     "data": {
      "text/plain": [
       "array([-3.0935,  1.3209, -3.9328, -2.3205, -4.4307, -2.8526,  2.1242,\n",
       "        1.2495, -5.3112,  1.0106], dtype=float32)"
      ]
     },
     "execution_count": 119,
     "metadata": {},
     "output_type": "execute_result"
    }
   ],
   "source": [
    "# similarities are calcualted using word vectors which are multi-dimensional\n",
    "# mathematical representations of words\n",
    "\n",
    "array = doc1[0].vector\n",
    "print(array.shape)\n",
    "array[:10]"
   ]
  },
  {
   "cell_type": "markdown",
   "id": "293aa304",
   "metadata": {},
   "source": [
    "## All about pipelines"
   ]
  },
  {
   "cell_type": "markdown",
   "id": "596e17f7",
   "metadata": {},
   "source": [
    "when a text is processed with nlp it is first tokenized and passed down to each pipeline from the above list"
   ]
  },
  {
   "attachments": {
    "Capture.PNG": {
     "image/png": "[encoded data removed]"
    }
   },
   "cell_type": "markdown",
   "id": "5cef648a",
   "metadata": {},
   "source": [
    "![Capture.PNG](attachment:Capture.PNG)"
   ]
  },
  {
   "cell_type": "markdown",
   "id": "d556d02f",
   "metadata": {},
   "source": [
    "However spaCy doesn't have a custome pipeline for any NLP problem you might face in the real world. This means you may want to perform your preprocessing steps before the text is passed to other pipelines.\n",
    "\n",
    "So we have to learn how to write custom pipeline functions and add them to the nlp object."
   ]
  },
  {
   "cell_type": "code",
   "execution_count": 179,
   "id": "e8986683",
   "metadata": {},
   "outputs": [],
   "source": [
    "from spacy.language import Language\n",
    "import string\n",
    "\n",
    "@Language.component(\"your_component\")\n",
    "def your_component(doc):\n",
    "    # do something on doc\n",
    "    print(f'There are {len(doc)} tokens in this text.')\n",
    "    words_without_punct = [word for word in doc if not word.is_punct]\n",
    "#     print(words_without_punct)\n",
    "    print(type(words_without_punct[0]))\n",
    "    return doc\n",
    "#     return words_without_punct"
   ]
  },
  {
   "cell_type": "code",
   "execution_count": 180,
   "id": "8c100576",
   "metadata": {
    "scrolled": true
   },
   "outputs": [
    {
     "data": {
      "text/plain": [
       "<function __main__.your_component(doc)>"
      ]
     },
     "execution_count": 180,
     "metadata": {},
     "output_type": "execute_result"
    }
   ],
   "source": [
    "nlp.remove_pipe(\"your_component\")\n",
    "nlp.add_pipe(\"your_component\")\n"
   ]
  },
  {
   "cell_type": "code",
   "execution_count": 143,
   "id": "f9346cf3",
   "metadata": {},
   "outputs": [
    {
     "data": {
      "text/plain": [
       "['tok2vec',\n",
       " 'tagger',\n",
       " 'parser',\n",
       " 'attribute_ruler',\n",
       " 'lemmatizer',\n",
       " 'ner',\n",
       " 'your_component']"
      ]
     },
     "execution_count": 143,
     "metadata": {},
     "output_type": "execute_result"
    }
   ],
   "source": [
    "nlp.pipe_names"
   ]
  },
  {
   "cell_type": "code",
   "execution_count": 184,
   "id": "9ae8b763",
   "metadata": {},
   "outputs": [
    {
     "name": "stdout",
     "output_type": "stream",
     "text": [
      "There are 9 tokens in this text.\n",
      "<class 'spacy.tokens.token.Token'>\n"
     ]
    },
    {
     "data": {
      "text/plain": [
       "Bird dies, but you remember the flight."
      ]
     },
     "execution_count": 184,
     "metadata": {},
     "output_type": "execute_result"
    }
   ],
   "source": [
    "doc = nlp(\"Bird dies, but you remember the flight.\")\n",
    "doc"
   ]
  },
  {
   "cell_type": "markdown",
   "id": "d70f6055",
   "metadata": {},
   "source": [
    "### Custom pipeline example"
   ]
  },
  {
   "cell_type": "code",
   "execution_count": 198,
   "id": "1b254f3d",
   "metadata": {},
   "outputs": [
    {
     "data": {
      "text/plain": [
       "<function __main__.titled_person(doc)>"
      ]
     },
     "execution_count": 198,
     "metadata": {},
     "output_type": "execute_result"
    }
   ],
   "source": [
    "# Adds in the pipeline to identify Alexander the Great but doesn't correctly label it\n",
    "from spacy.language import Language\n",
    "from spacy.matcher import Matcher\n",
    "from spacy.util import filter_spans\n",
    "\n",
    "nlp = spacy.load(\"en_core_web_sm\")\n",
    "\n",
    "@Language.component(\"titled_person\")\n",
    "def titled_person(doc):\n",
    "    pattern = [\n",
    "        {\"IS_ALPHA\": True, \"IS_TITLE\": True},\n",
    "        {\"IS_STOP\": True},\n",
    "        {\"IS_ALPHA\": True, \"IS_TITLE\": True},\n",
    "    ]\n",
    "    # Create the matcher\n",
    "    matcher = Matcher(nlp.vocab)\n",
    "    # Add the pattern\n",
    "    matcher.add(\"TITLED_PERSON\", [pattern])\n",
    "\n",
    "    matches = matcher(doc)\n",
    "    matched_spans = [Span(doc, start, end, label=\"PERSON\") for _, start, end in matches]\n",
    "\n",
    "    # Filter the entities for potential overlap\n",
    "    filtered_matches = filter_spans(list(doc.ents) + matched_spans)\n",
    "    # Add the matched spans to doc's entities\n",
    "    doc.ents = filtered_matches\n",
    "    return doc\n",
    "\n",
    "# nlp.remove_pipe(\"titled_person\")\n",
    "nlp.add_pipe(\"titled_person\")\n",
    "# <function __main__.titled_person(doc)>"
   ]
  },
  {
   "cell_type": "code",
   "execution_count": 197,
   "id": "ea2003a3",
   "metadata": {},
   "outputs": [
    {
     "name": "stdout",
     "output_type": "stream",
     "text": [
      "[Cleopatra, Egyptian, Egypt, Greek, Alexander the Great's, Macedonian, Ptolemy, Alexander the Great]\n",
      "['tok2vec', 'tagger', 'parser', 'attribute_ruler', 'lemmatizer', 'ner', 'titled_person']\n",
      "(Cleopatra, Egyptian, Egypt, Greek, Alexander the Great's, Macedonian, Ptolemy)\n"
     ]
    }
   ],
   "source": [
    "txt = \"\"\"Cleopatra wasn't actually Egyptian! \n",
    "         As far as historians can tell, Egypt's \n",
    "         famous femme fatal was actually Greek!. \n",
    "         She was a descendant of Alexander the Great's\n",
    "         Macedonian general Ptolemy\"\"\"\n",
    "\n",
    "doc = nlp(txt)\n",
    "\n",
    "print(nlp.pipe_names)\n",
    "print(doc.ents)"
   ]
  },
  {
   "cell_type": "code",
   "execution_count": 190,
   "id": "8ff90011",
   "metadata": {},
   "outputs": [
    {
     "ename": "ValueError",
     "evalue": "[E007] 'titled_person' already exists in pipeline. Existing names: ['tok2vec', 'tagger', 'parser', 'senter', 'attribute_ruler', 'lemmatizer', 'ner', 'titled_person']",
     "output_type": "error",
     "traceback": [
      "\u001b[1;31m---------------------------------------------------------------------------\u001b[0m",
      "\u001b[1;31mValueError\u001b[0m                                Traceback (most recent call last)",
      "\u001b[1;32m~\\AppData\\Local\\Temp\\ipykernel_11464\\1723416393.py\u001b[0m in \u001b[0;36m<module>\u001b[1;34m\u001b[0m\n\u001b[0;32m      1\u001b[0m \u001b[1;31m# the add_pipe function has arguments to specify where to insert the function in the pipeline\u001b[0m\u001b[1;33m\u001b[0m\u001b[1;33m\u001b[0m\u001b[0m\n\u001b[0;32m      2\u001b[0m \u001b[1;33m\u001b[0m\u001b[0m\n\u001b[1;32m----> 3\u001b[1;33m \u001b[0mnlp\u001b[0m\u001b[1;33m.\u001b[0m\u001b[0madd_pipe\u001b[0m\u001b[1;33m(\u001b[0m\u001b[1;34m\"titled_person\"\u001b[0m\u001b[1;33m,\u001b[0m \u001b[0mfirst\u001b[0m\u001b[1;33m=\u001b[0m\u001b[1;32mTrue\u001b[0m\u001b[1;33m)\u001b[0m  \u001b[1;31m# Beginning\u001b[0m\u001b[1;33m\u001b[0m\u001b[1;33m\u001b[0m\u001b[0m\n\u001b[0m\u001b[0;32m      4\u001b[0m \u001b[0mnlp\u001b[0m\u001b[1;33m.\u001b[0m\u001b[0madd_pipe\u001b[0m\u001b[1;33m(\u001b[0m\u001b[1;34m\"titled_person\"\u001b[0m\u001b[1;33m,\u001b[0m \u001b[0mafter\u001b[0m\u001b[1;33m=\u001b[0m\u001b[1;34m\"parser\"\u001b[0m\u001b[1;33m)\u001b[0m  \u001b[1;31m# After parser\u001b[0m\u001b[1;33m\u001b[0m\u001b[1;33m\u001b[0m\u001b[0m\n\u001b[0;32m      5\u001b[0m \u001b[0mnlp\u001b[0m\u001b[1;33m.\u001b[0m\u001b[0madd_pipe\u001b[0m\u001b[1;33m(\u001b[0m\u001b[1;34m\"titled_person\"\u001b[0m\u001b[1;33m,\u001b[0m \u001b[0mbefore\u001b[0m\u001b[1;33m=\u001b[0m\u001b[1;34m\"tagger\"\u001b[0m\u001b[1;33m)\u001b[0m \u001b[1;31m# Before POS tagger\u001b[0m\u001b[1;33m\u001b[0m\u001b[1;33m\u001b[0m\u001b[0m\n",
      "\u001b[1;32m~\\AppData\\Roaming\\Python\\Python39\\site-packages\\spacy\\language.py\u001b[0m in \u001b[0;36madd_pipe\u001b[1;34m(self, factory_name, name, before, after, first, last, source, config, raw_config, validate)\u001b[0m\n\u001b[0;32m    808\u001b[0m         \u001b[0mname\u001b[0m \u001b[1;33m=\u001b[0m \u001b[0mname\u001b[0m \u001b[1;32mif\u001b[0m \u001b[0mname\u001b[0m \u001b[1;32mis\u001b[0m \u001b[1;32mnot\u001b[0m \u001b[1;32mNone\u001b[0m \u001b[1;32melse\u001b[0m \u001b[0mfactory_name\u001b[0m\u001b[1;33m\u001b[0m\u001b[1;33m\u001b[0m\u001b[0m\n\u001b[0;32m    809\u001b[0m         \u001b[1;32mif\u001b[0m \u001b[0mname\u001b[0m \u001b[1;32min\u001b[0m \u001b[0mself\u001b[0m\u001b[1;33m.\u001b[0m\u001b[0mcomponent_names\u001b[0m\u001b[1;33m:\u001b[0m\u001b[1;33m\u001b[0m\u001b[1;33m\u001b[0m\u001b[0m\n\u001b[1;32m--> 810\u001b[1;33m             \u001b[1;32mraise\u001b[0m \u001b[0mValueError\u001b[0m\u001b[1;33m(\u001b[0m\u001b[0mErrors\u001b[0m\u001b[1;33m.\u001b[0m\u001b[0mE007\u001b[0m\u001b[1;33m.\u001b[0m\u001b[0mformat\u001b[0m\u001b[1;33m(\u001b[0m\u001b[0mname\u001b[0m\u001b[1;33m=\u001b[0m\u001b[0mname\u001b[0m\u001b[1;33m,\u001b[0m \u001b[0mopts\u001b[0m\u001b[1;33m=\u001b[0m\u001b[0mself\u001b[0m\u001b[1;33m.\u001b[0m\u001b[0mcomponent_names\u001b[0m\u001b[1;33m)\u001b[0m\u001b[1;33m)\u001b[0m\u001b[1;33m\u001b[0m\u001b[1;33m\u001b[0m\u001b[0m\n\u001b[0m\u001b[0;32m    811\u001b[0m         \u001b[1;31m# Overriding pipe name in the config is not supported and will be ignored.\u001b[0m\u001b[1;33m\u001b[0m\u001b[1;33m\u001b[0m\u001b[0m\n\u001b[0;32m    812\u001b[0m         \u001b[1;32mif\u001b[0m \u001b[1;34m\"name\"\u001b[0m \u001b[1;32min\u001b[0m \u001b[0mconfig\u001b[0m\u001b[1;33m:\u001b[0m\u001b[1;33m\u001b[0m\u001b[1;33m\u001b[0m\u001b[0m\n",
      "\u001b[1;31mValueError\u001b[0m: [E007] 'titled_person' already exists in pipeline. Existing names: ['tok2vec', 'tagger', 'parser', 'senter', 'attribute_ruler', 'lemmatizer', 'ner', 'titled_person']"
     ]
    }
   ],
   "source": [
    "# the add_pipe function has arguments to specify where to insert the function in the pipeline\n",
    "\n",
    "nlp.add_pipe(\"titled_person\", first=True)  # Beginning\n",
    "nlp.add_pipe(\"titled_person\", after=\"parser\")  # After parser\n",
    "nlp.add_pipe(\"titled_person\", before=\"tagger\") # Before POS tagger"
   ]
  }
 ],
 "metadata": {
  "kernelspec": {
   "display_name": "Python 3 (ipykernel)",
   "language": "python",
   "name": "python3"
  },
  "language_info": {
   "codemirror_mode": {
    "name": "ipython",
    "version": 3
   },
   "file_extension": ".py",
   "mimetype": "text/x-python",
   "name": "python",
   "nbconvert_exporter": "python",
   "pygments_lexer": "ipython3",
   "version": "3.9.13"
  }
 },
 "nbformat": 4,
 "nbformat_minor": 5
}
