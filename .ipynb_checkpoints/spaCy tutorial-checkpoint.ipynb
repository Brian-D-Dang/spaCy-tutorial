{
 "cells": [
  {
   "cell_type": "markdown",
   "id": "92971223",
   "metadata": {},
   "source": [
    "# spaCy"
   ]
  },
  {
   "cell_type": "markdown",
   "id": "b948eab2",
   "metadata": {},
   "source": [
    "## Basics of spaCy"
   ]
  },
  {
   "cell_type": "code",
   "execution_count": 2,
   "id": "dddf4014",
   "metadata": {},
   "outputs": [
    {
     "data": {
      "text/plain": [
       "<spacy.lang.en.English at 0x207a4fcde50>"
      ]
     },
     "execution_count": 2,
     "metadata": {},
     "output_type": "execute_result"
    }
   ],
   "source": [
    "import spacy\n",
    "\n",
    "txt = \"The tallest living man is 37-year-old Sultan Kosen, from Turkey, who is 8 feet, 2.8 inches, who set the record in 2009.\"\n",
    "\n",
    "# Create the Language object\n",
    "# convention to name any loaded language models 'nlp' in spaCy\n",
    "nlp = spacy.load(\"en_core_web_sm\")\n",
    "nlp"
   ]
  },
  {
   "cell_type": "code",
   "execution_count": 4,
   "id": "c2ed0a6a",
   "metadata": {},
   "outputs": [
    {
     "data": {
      "text/plain": [
       "The tallest living man is 37-year-old Sultan Kosen, from Turkey, who is 8 feet, 2.8 inches, who set the record in 2009."
      ]
     },
     "execution_count": 4,
     "metadata": {},
     "output_type": "execute_result"
    }
   ],
   "source": [
    "# this is how we create a doc object\n",
    "doc = nlp(txt)\n",
    "doc"
   ]
  },
  {
   "cell_type": "code",
   "execution_count": 8,
   "id": "91c4a2d4",
   "metadata": {},
   "outputs": [
    {
     "name": "stdout",
     "output_type": "stream",
     "text": [
      "The\n",
      "tallest\n",
      "living\n",
      "man\n",
      "is\n",
      "\n",
      "Text length: 31\n",
      "<class 'spacy.tokens.token.Token'>\n"
     ]
    }
   ],
   "source": [
    "# a doc object is a convention and an iterator\n",
    "# slicing and indexing notations can be used to extract individual tokens\n",
    "for token in doc[:5]:\n",
    "    print(token)\n",
    "print(f'\\nText length: {len(doc)}')\n",
    "print(type(doc[0]))"
   ]
  },
  {
   "cell_type": "code",
   "execution_count": 10,
   "id": "720e75a0",
   "metadata": {},
   "outputs": [
    {
     "name": "stdout",
     "output_type": "stream",
     "text": [
      "<class 'spacy.tokens.span.Span'>\n"
     ]
    },
    {
     "data": {
      "text/plain": [
       "'The tallest living man is'"
      ]
     },
     "execution_count": 10,
     "metadata": {},
     "output_type": "execute_result"
    }
   ],
   "source": [
    "# if more than one token is extracted we have a span object\n",
    "span = doc[:5]\n",
    "print(type(span))\n",
    "\n",
    "span.text"
   ]
  },
  {
   "cell_type": "code",
   "execution_count": 17,
   "id": "083daaab",
   "metadata": {},
   "outputs": [
    {
     "name": "stdout",
     "output_type": "stream",
     "text": [
      "Index:   [3, 4, 5, 6, 7, 8, 9]\n",
      "Text:   ['man', 'is', '37', '-', 'year', '-', 'old']\n",
      "is_alpha:   [True, True, False, False, True, False, True]\n",
      "is_punct:   [False, False, False, True, False, True, False]\n",
      "like_num:   [False, False, True, False, False, False, False]\n",
      "Base word:  ['man', 'be', '37', '-', 'year', '-', 'old']\n"
     ]
    }
   ],
   "source": [
    "# spaCy is memory efficient so token and span are just views of doc object there is no duplication\n",
    "# There are also 6 prebuilt in lexical attributes\n",
    "print(\"Index:  \", [token.i for token in doc[3:10]])\n",
    "print(\"Text:  \", [token.text for token in doc[3:10]])\n",
    "print(\"is_alpha:  \", [token.is_alpha for token in doc[3:10]])\n",
    "print(\"is_punct:  \", [token.is_punct for token in doc[3:10]])\n",
    "# like_num recognizes both literal and lettered numbers\n",
    "print(\"like_num:  \", [token.like_num for token in doc[3:10]])\n",
    "# returns base word stripped from any suffixes, prefixes, tense, or other grammatical attributes\n",
    "print(\"Base word: \", [token.lemma_ for token in doc[3:10]])"
   ]
  },
  {
   "cell_type": "markdown",
   "id": "d1cc27fb",
   "metadata": {},
   "source": [
    "## Architecture and core data structures"
   ]
  },
  {
   "cell_type": "code",
   "execution_count": 18,
   "id": "f718e32f",
   "metadata": {},
   "outputs": [
    {
     "data": {
      "text/plain": [
       "spacy.lang.en.English"
      ]
     },
     "execution_count": 18,
     "metadata": {},
     "output_type": "execute_result"
    }
   ],
   "source": [
    "import spacy\n",
    "# we load in a language object which are pre-trained on millions of text instances\n",
    "# available in 22 languages\n",
    "nlp = spacy.load(\"en_core_web_md\")\n",
    "\n",
    "type(nlp)"
   ]
  },
  {
   "cell_type": "code",
   "execution_count": 21,
   "id": "67ef45f9",
   "metadata": {},
   "outputs": [
    {
     "name": "stdout",
     "output_type": "stream",
     "text": [
      "<class 'spacy.lang.en.English'>\n"
     ]
    }
   ],
   "source": [
    "# language models can be directly imported from the lan sub-module\n",
    "from spacy.lang.en import English\n",
    "from spacy.lang.es import Spanish\n",
    "\n",
    "nlp = English()\n",
    "\n",
    "print(type(nlp))\n",
    "\n",
    "txt = \"\"\"The original name for the search engine Google was Backrub. \n",
    "         It was renamed Google after the googol, \n",
    "         which is the number one followed by 100 zeros.\"\"\"\n",
    "\n",
    "doc = nlp(txt)"
   ]
  },
  {
   "cell_type": "code",
   "execution_count": 25,
   "id": "16a2fca6",
   "metadata": {},
   "outputs": [
    {
     "name": "stdout",
     "output_type": "stream",
     "text": [
      "nlp vocab: <class 'spacy.vocab.Vocab'>\n",
      "doc vocab: <class 'spacy.vocab.Vocab'>\n"
     ]
    }
   ],
   "source": [
    "# after processing text the words and punct are stored in the vocab object of nlp\n",
    "# vocab is shared between docs so all new words are stored in the same object\n",
    "print(f'nlp vocab: {type(nlp.vocab)}')\n",
    "print(f'doc vocab: {type(doc.vocab)}')"
   ]
  },
  {
   "cell_type": "code",
   "execution_count": null,
   "id": "c7628f82",
   "metadata": {},
   "outputs": [],
   "source": []
  }
 ],
 "metadata": {
  "kernelspec": {
   "display_name": "Python 3 (ipykernel)",
   "language": "python",
   "name": "python3"
  },
  "language_info": {
   "codemirror_mode": {
    "name": "ipython",
    "version": 3
   },
   "file_extension": ".py",
   "mimetype": "text/x-python",
   "name": "python",
   "nbconvert_exporter": "python",
   "pygments_lexer": "ipython3",
   "version": "3.9.13"
  }
 },
 "nbformat": 4,
 "nbformat_minor": 5
}
